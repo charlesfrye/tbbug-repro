{
 "cells": [
  {
   "cell_type": "markdown",
   "metadata": {},
   "source": [
    "If we use the `!` magic to execute the training and logging code,or if we run it in a terminal, everything behaves as expected:"
   ]
  },
  {
   "cell_type": "code",
   "execution_count": 1,
   "metadata": {},
   "outputs": [
    {
     "name": "stdout",
     "output_type": "stream",
     "text": [
      "\u001b[34m\u001b[1mwandb\u001b[0m: Tracking run with wandb version 0.9.5\n",
      "\u001b[34m\u001b[1mwandb\u001b[0m: Run data is saved locally in wandb/run-20200825_012929-j9xk02w5\n",
      "\u001b[34m\u001b[1mwandb\u001b[0m: Syncing run \u001b[33mlogical-frog-217\u001b[0m\n",
      "\u001b[34m\u001b[1mwandb\u001b[0m: ⭐️ View project at \u001b[34m\u001b[4mhttps://app.wandb.ai/charlesfrye/uncategorized\u001b[0m\n",
      "\u001b[34m\u001b[1mwandb\u001b[0m: 🚀 View run at \u001b[34m\u001b[4mhttps://app.wandb.ai/charlesfrye/uncategorized/runs/j9xk02w5\u001b[0m\n",
      "\u001b[34m\u001b[1mwandb\u001b[0m: Run `wandb off` to turn off syncing.\n",
      "\n",
      "\n",
      "\u001b[34m\u001b[1mwandb\u001b[0m: Waiting for W&B process to finish, PID 5422\n",
      "\u001b[34m\u001b[1mwandb\u001b[0m: Program ended successfully.\n",
      "\u001b[34m\u001b[1mwandb\u001b[0m: Run summary:\n",
      "\u001b[34m\u001b[1mwandb\u001b[0m:   global_step 1\n",
      "\u001b[34m\u001b[1mwandb\u001b[0m:       trn/bar 0.15508607029914856\n",
      "\u001b[34m\u001b[1mwandb\u001b[0m:      _runtime 2.1646974086761475\n",
      "\u001b[34m\u001b[1mwandb\u001b[0m:       trn/foo 0.9074437618255615\n",
      "\u001b[34m\u001b[1mwandb\u001b[0m:         _step 1\n",
      "\u001b[34m\u001b[1mwandb\u001b[0m:    _timestamp 1598344170.3939404\n",
      "\u001b[34m\u001b[1mwandb\u001b[0m: Syncing 4 W&B file(s), 0 media file(s), 0 artifact file(s) and 2 other file(s)\n",
      "\u001b[34m\u001b[1mwandb\u001b[0m:                                                                                \n",
      "\u001b[34m\u001b[1mwandb\u001b[0m: Synced logical-frog-217: https://app.wandb.ai/charlesfrye/uncategorized/runs/j9xk02w5\n",
      "\u001b[34m\u001b[1mwandb\u001b[0m: Tracking run with wandb version 0.9.5\n",
      "\u001b[34m\u001b[1mwandb\u001b[0m: Run data is saved locally in wandb/run-20200825_012935-2np7i7r9\n",
      "\u001b[34m\u001b[1mwandb\u001b[0m: Syncing run \u001b[33mcrimson-moon-218\u001b[0m\n",
      "\u001b[34m\u001b[1mwandb\u001b[0m: ⭐️ View project at \u001b[34m\u001b[4mhttps://app.wandb.ai/charlesfrye/uncategorized\u001b[0m\n",
      "\u001b[34m\u001b[1mwandb\u001b[0m: 🚀 View run at \u001b[34m\u001b[4mhttps://app.wandb.ai/charlesfrye/uncategorized/runs/2np7i7r9\u001b[0m\n",
      "\u001b[34m\u001b[1mwandb\u001b[0m: Run `wandb off` to turn off syncing.\n",
      "\n",
      "\n",
      "\u001b[34m\u001b[1mwandb\u001b[0m: Waiting for W&B process to finish, PID 5498\n",
      "\u001b[34m\u001b[1mwandb\u001b[0m: Program ended successfully.\n",
      "\u001b[34m\u001b[1mwandb\u001b[0m: Run summary:\n",
      "\u001b[34m\u001b[1mwandb\u001b[0m:       trn/foo 0.5318756103515625\n",
      "\u001b[34m\u001b[1mwandb\u001b[0m:       trn/bar 0.6384591460227966\n",
      "\u001b[34m\u001b[1mwandb\u001b[0m:    _timestamp 1598344176.4131787\n",
      "\u001b[34m\u001b[1mwandb\u001b[0m:      _runtime 2.132955551147461\n",
      "\u001b[34m\u001b[1mwandb\u001b[0m:   global_step 1\n",
      "\u001b[34m\u001b[1mwandb\u001b[0m:         _step 1\n",
      "\u001b[34m\u001b[1mwandb\u001b[0m: Syncing 4 W&B file(s), 0 media file(s), 0 artifact file(s) and 2 other file(s)\n",
      "\u001b[34m\u001b[1mwandb\u001b[0m:                                                                                \n",
      "\u001b[34m\u001b[1mwandb\u001b[0m: Synced crimson-moon-218: https://app.wandb.ai/charlesfrye/uncategorized/runs/2np7i7r9\n"
     ]
    }
   ],
   "source": [
    "for _ in range(2):\n",
    "    !python training.py"
   ]
  },
  {
   "cell_type": "markdown",
   "metadata": {},
   "source": [
    "But that's not the structure of the code I inherited.\n",
    "\n",
    "Instead, it's intended that you import a class and execute its `.main` method."
   ]
  },
  {
   "cell_type": "code",
   "execution_count": 2,
   "metadata": {},
   "outputs": [],
   "source": [
    "import training"
   ]
  },
  {
   "cell_type": "markdown",
   "metadata": {},
   "source": [
    "The first time we do this, everything goes fine -- the metrics are saved with the desired names, as can be seen in the charts of the linked run."
   ]
  },
  {
   "cell_type": "code",
   "execution_count": 3,
   "metadata": {},
   "outputs": [
    {
     "data": {
      "text/html": [
       "\n",
       "                Logging results to <a href=\"https://wandb.com\" target=\"_blank\">Weights & Biases</a> <a href=\"https://docs.wandb.com/integrations/jupyter.html\" target=\"_blank\">(Documentation)</a>.<br/>\n",
       "                Project page: <a href=\"https://app.wandb.ai/charlesfrye/uncategorized\" target=\"_blank\">https://app.wandb.ai/charlesfrye/uncategorized</a><br/>\n",
       "                Run page: <a href=\"https://app.wandb.ai/charlesfrye/uncategorized/runs/2phc47o1\" target=\"_blank\">https://app.wandb.ai/charlesfrye/uncategorized/runs/2phc47o1</a><br/>\n",
       "            "
      ],
      "text/plain": [
       "<IPython.core.display.HTML object>"
      ]
     },
     "metadata": {},
     "output_type": "display_data"
    },
    {
     "name": "stderr",
     "output_type": "stream",
     "text": [
      "Failed to query for notebook name, you can set it manually with the WANDB_NOTEBOOK_NAME environment variable\n"
     ]
    }
   ],
   "source": [
    "app = training.LunaTrainingApp(sys_argv=[])\n",
    "app.main()"
   ]
  },
  {
   "cell_type": "markdown",
   "metadata": {},
   "source": [
    "On the second run, however, the metrics are all pre-pended with the directory name of the `wandb.run.dir`.\n",
    "\n",
    "This is bad because this directory changes on every run,\n",
    "so it becomes very difficult to compare across runs.\n",
    "\n",
    "Note that this still happens even though we only have one `SummaryWriter` and so only one `tfevents` file."
   ]
  },
  {
   "cell_type": "code",
   "execution_count": 4,
   "metadata": {},
   "outputs": [
    {
     "data": {
      "text/html": [
       "\n",
       "                Logging results to <a href=\"https://wandb.com\" target=\"_blank\">Weights & Biases</a> <a href=\"https://docs.wandb.com/integrations/jupyter.html\" target=\"_blank\">(Documentation)</a>.<br/>\n",
       "                Project page: <a href=\"https://app.wandb.ai/charlesfrye/uncategorized\" target=\"_blank\">https://app.wandb.ai/charlesfrye/uncategorized</a><br/>\n",
       "                Run page: <a href=\"https://app.wandb.ai/charlesfrye/uncategorized/runs/1o530b87\" target=\"_blank\">https://app.wandb.ai/charlesfrye/uncategorized/runs/1o530b87</a><br/>\n",
       "            "
      ],
      "text/plain": [
       "<IPython.core.display.HTML object>"
      ]
     },
     "metadata": {},
     "output_type": "display_data"
    },
    {
     "name": "stderr",
     "output_type": "stream",
     "text": [
      "Failed to query for notebook name, you can set it manually with the WANDB_NOTEBOOK_NAME environment variable\n"
     ]
    }
   ],
   "source": [
    "app = training.LunaTrainingApp(sys_argv=[])\n",
    "app.main()"
   ]
  },
  {
   "cell_type": "markdown",
   "metadata": {},
   "source": [
    "If we simply force the `tfevents` files to all be written into some `new` directory, we can control the prefix for one iteration, but then on the second iteration, no metrics get logged at all (not even the `tfevents` file)."
   ]
  },
  {
   "cell_type": "code",
   "execution_count": 5,
   "metadata": {},
   "outputs": [
    {
     "data": {
      "text/html": [
       "\n",
       "                Logging results to <a href=\"https://wandb.com\" target=\"_blank\">Weights & Biases</a> <a href=\"https://docs.wandb.com/integrations/jupyter.html\" target=\"_blank\">(Documentation)</a>.<br/>\n",
       "                Project page: <a href=\"https://app.wandb.ai/charlesfrye/uncategorized\" target=\"_blank\">https://app.wandb.ai/charlesfrye/uncategorized</a><br/>\n",
       "                Run page: <a href=\"https://app.wandb.ai/charlesfrye/uncategorized/runs/39xjnzhv\" target=\"_blank\">https://app.wandb.ai/charlesfrye/uncategorized/runs/39xjnzhv</a><br/>\n",
       "            "
      ],
      "text/plain": [
       "<IPython.core.display.HTML object>"
      ]
     },
     "metadata": {},
     "output_type": "display_data"
    },
    {
     "name": "stderr",
     "output_type": "stream",
     "text": [
      "Failed to query for notebook name, you can set it manually with the WANDB_NOTEBOOK_NAME environment variable\n"
     ]
    },
    {
     "data": {
      "text/html": [
       "\n",
       "                Logging results to <a href=\"https://wandb.com\" target=\"_blank\">Weights & Biases</a> <a href=\"https://docs.wandb.com/integrations/jupyter.html\" target=\"_blank\">(Documentation)</a>.<br/>\n",
       "                Project page: <a href=\"https://app.wandb.ai/charlesfrye/uncategorized\" target=\"_blank\">https://app.wandb.ai/charlesfrye/uncategorized</a><br/>\n",
       "                Run page: <a href=\"https://app.wandb.ai/charlesfrye/uncategorized/runs/1jtugi8o\" target=\"_blank\">https://app.wandb.ai/charlesfrye/uncategorized/runs/1jtugi8o</a><br/>\n",
       "            "
      ],
      "text/plain": [
       "<IPython.core.display.HTML object>"
      ]
     },
     "metadata": {},
     "output_type": "display_data"
    },
    {
     "name": "stderr",
     "output_type": "stream",
     "text": [
      "Failed to query for notebook name, you can set it manually with the WANDB_NOTEBOOK_NAME environment variable\n"
     ]
    }
   ],
   "source": [
    "for _ in range(2):\n",
    "    app = training.LunaTrainingApp(sys_argv=[\"--new_dir\"])\n",
    "    app.main()"
   ]
  },
  {
   "cell_type": "markdown",
   "metadata": {},
   "source": [
    "Weirdly enough, if you run the code in the cell above _before_ running the code that writes the `tfevents` to `wandb.run.dir`, the resulting metrics are logged with the desired names, no pre-pending\n",
    "(see [this run](https://app.wandb.ai/charlesfrye/uncategorized/runs/2hd3i6p0) and [this run](https://app.wandb.ai/charlesfrye/uncategorized/runs/36p7heao), and note the session histroy in the latter, as compared with the linked runs above)."
   ]
  },
  {
   "cell_type": "markdown",
   "metadata": {},
   "source": [
    "And for one final bit of weirdness,\n",
    "if we go back and run the code with the `!` shell magic again,\n",
    "having run `app.main()` without the `new_dir` argument at least once,\n",
    "it no longer works."
   ]
  },
  {
   "cell_type": "code",
   "execution_count": 6,
   "metadata": {},
   "outputs": [
    {
     "name": "stdout",
     "output_type": "stream",
     "text": [
      "Traceback (most recent call last):\r\n",
      "  File \"training.py\", line 65, in <module>\r\n",
      "    LunaTrainingApp().main()\r\n",
      "  File \"training.py\", line 39, in main\r\n",
      "    self.logMetrics(epoch_ndx, 'trn')\r\n",
      "  File \"training.py\", line 52, in logMetrics\r\n",
      "    self.initTensorboardWriters(new_dir=self.cli_args.new_dir)\r\n",
      "  File \"training.py\", line 27, in initTensorboardWriters\r\n",
      "    tb_dir = wandb.run.dir\r\n",
      "AttributeError: 'NoneType' object has no attribute 'dir'\r\n"
     ]
    }
   ],
   "source": [
    "!python training.py"
   ]
  }
 ],
 "metadata": {
  "kernelspec": {
   "display_name": "Python 3",
   "language": "python",
   "name": "python3"
  },
  "language_info": {
   "codemirror_mode": {
    "name": "ipython",
    "version": 3
   },
   "file_extension": ".py",
   "mimetype": "text/x-python",
   "name": "python",
   "nbconvert_exporter": "python",
   "pygments_lexer": "ipython3",
   "version": "3.6.8"
  }
 },
 "nbformat": 4,
 "nbformat_minor": 2
}
